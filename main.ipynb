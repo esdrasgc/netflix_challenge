{
 "cells": [
  {
   "cell_type": "code",
   "execution_count": 717,
   "metadata": {},
   "outputs": [
    {
     "data": {
      "text/html": [
       "<div>\n",
       "<style scoped>\n",
       "    .dataframe tbody tr th:only-of-type {\n",
       "        vertical-align: middle;\n",
       "    }\n",
       "\n",
       "    .dataframe tbody tr th {\n",
       "        vertical-align: top;\n",
       "    }\n",
       "\n",
       "    .dataframe thead th {\n",
       "        text-align: right;\n",
       "    }\n",
       "</style>\n",
       "<table border=\"1\" class=\"dataframe\">\n",
       "  <thead>\n",
       "    <tr style=\"text-align: right;\">\n",
       "      <th></th>\n",
       "      <th>userId</th>\n",
       "      <th>movieId</th>\n",
       "      <th>rating</th>\n",
       "      <th>timestamp</th>\n",
       "    </tr>\n",
       "  </thead>\n",
       "  <tbody>\n",
       "    <tr>\n",
       "      <th>0</th>\n",
       "      <td>1</td>\n",
       "      <td>31</td>\n",
       "      <td>2.5</td>\n",
       "      <td>1260759144</td>\n",
       "    </tr>\n",
       "    <tr>\n",
       "      <th>1</th>\n",
       "      <td>1</td>\n",
       "      <td>1029</td>\n",
       "      <td>3.0</td>\n",
       "      <td>1260759179</td>\n",
       "    </tr>\n",
       "  </tbody>\n",
       "</table>\n",
       "</div>"
      ],
      "text/plain": [
       "   userId  movieId  rating   timestamp\n",
       "0       1       31     2.5  1260759144\n",
       "1       1     1029     3.0  1260759179"
      ]
     },
     "execution_count": 717,
     "metadata": {},
     "output_type": "execute_result"
    }
   ],
   "source": [
    "import pandas as pd\n",
    "import numpy as np\n",
    "df = pd.read_csv('ratings_small.csv')\n",
    "df.head(2)"
   ]
  },
  {
   "cell_type": "code",
   "execution_count": 718,
   "metadata": {},
   "outputs": [
    {
     "data": {
      "text/html": [
       "<div>\n",
       "<style scoped>\n",
       "    .dataframe tbody tr th:only-of-type {\n",
       "        vertical-align: middle;\n",
       "    }\n",
       "\n",
       "    .dataframe tbody tr th {\n",
       "        vertical-align: top;\n",
       "    }\n",
       "\n",
       "    .dataframe thead th {\n",
       "        text-align: right;\n",
       "    }\n",
       "</style>\n",
       "<table border=\"1\" class=\"dataframe\">\n",
       "  <thead>\n",
       "    <tr style=\"text-align: right;\">\n",
       "      <th></th>\n",
       "      <th>userId</th>\n",
       "      <th>movieId</th>\n",
       "      <th>rating</th>\n",
       "    </tr>\n",
       "  </thead>\n",
       "  <tbody>\n",
       "    <tr>\n",
       "      <th>0</th>\n",
       "      <td>1</td>\n",
       "      <td>31</td>\n",
       "      <td>2.5</td>\n",
       "    </tr>\n",
       "    <tr>\n",
       "      <th>1</th>\n",
       "      <td>1</td>\n",
       "      <td>1029</td>\n",
       "      <td>3.0</td>\n",
       "    </tr>\n",
       "  </tbody>\n",
       "</table>\n",
       "</div>"
      ],
      "text/plain": [
       "   userId  movieId  rating\n",
       "0       1       31     2.5\n",
       "1       1     1029     3.0"
      ]
     },
     "execution_count": 718,
     "metadata": {},
     "output_type": "execute_result"
    }
   ],
   "source": [
    "df = df.drop('timestamp', axis=1)\n",
    "df.head(2)"
   ]
  },
  {
   "cell_type": "code",
   "execution_count": 719,
   "metadata": {},
   "outputs": [],
   "source": [
    "## choose a random lines from the dataframe\n",
    "\n",
    "samp_ = df.sample(5)\n",
    "users = samp_['userId'].values\n",
    "movies = samp_['movieId'].values\n",
    "ratings = samp_['rating'].values"
   ]
  },
  {
   "cell_type": "code",
   "execution_count": 720,
   "metadata": {},
   "outputs": [],
   "source": [
    "b = pd.pivot_table(df, values='rating', index='userId', columns='movieId')\n"
   ]
  },
  {
   "cell_type": "code",
   "execution_count": 721,
   "metadata": {},
   "outputs": [],
   "source": [
    "# ## cria a matriz B\n",
    "# b = matrix.copy()\n"
   ]
  },
  {
   "cell_type": "code",
   "execution_count": 722,
   "metadata": {},
   "outputs": [],
   "source": [
    "# substitui um elemento aleatório que não seja NAN da matriz B por um valor aleatorio de 0 a 5.\n",
    "for i in range(len(ratings)):\n",
    "    b.iloc[users[i], movies[i]] = (np.random.randint(5, 51)*0.1)\n",
    "    # print(users[i], movies[i], ratings[i])\n",
    "    # print(b.iloc[users[i], movies[i]])"
   ]
  },
  {
   "cell_type": "code",
   "execution_count": 723,
   "metadata": {},
   "outputs": [],
   "source": [
    "## substitui os NANs da matriz B por 2.5\n",
    "b = b.fillna(2.75)"
   ]
  },
  {
   "cell_type": "code",
   "execution_count": 724,
   "metadata": {},
   "outputs": [],
   "source": [
    "b = b.to_numpy()"
   ]
  },
  {
   "cell_type": "code",
   "execution_count": 725,
   "metadata": {},
   "outputs": [],
   "source": [
    "def selecionar_K_primeiros_valores (u, s, vt, K):\n",
    "    \"\"\"Remove elementos de u, s e vt deixando somente K componentes restantes\n",
    "    \"\"\" \n",
    "    u_ = u[:,0:K]\n",
    "    s_ = s[:K]\n",
    "    vt_ = vt[:K,:]\n",
    "    return u_, s_, vt_"
   ]
  },
  {
   "cell_type": "code",
   "execution_count": 726,
   "metadata": {},
   "outputs": [],
   "source": [
    "from scipy.linalg import svd, diagsvd\n",
    "\n",
    "## calcula a SVD da matriz B\n",
    "U, s, Vt = svd(b)\n"
   ]
  },
  {
   "cell_type": "code",
   "execution_count": 727,
   "metadata": {},
   "outputs": [],
   "source": [
    "import matplotlib.pyplot as plt\n"
   ]
  },
  {
   "cell_type": "code",
   "execution_count": 728,
   "metadata": {},
   "outputs": [
    {
     "data": {
      "image/png": "[encoded data removed]",
      "text/plain": [
       "<Figure size 640x480 with 1 Axes>"
      ]
     },
     "metadata": {},
     "output_type": "display_data"
    }
   ],
   "source": [
    "plt.plot(s[:100])\n",
    "plt.show()"
   ]
  },
  {
   "cell_type": "code",
   "execution_count": 729,
   "metadata": {},
   "outputs": [
    {
     "data": {
      "image/png": "[encoded data removed]",
      "text/plain": [
       "<Figure size 640x480 with 1 Axes>"
      ]
     },
     "metadata": {},
     "output_type": "display_data"
    }
   ],
   "source": [
    "## plot the s values\n",
    "plt.plot(s[1:100])\n",
    "plt.show()"
   ]
  },
  {
   "cell_type": "code",
   "execution_count": 730,
   "metadata": {},
   "outputs": [],
   "source": [
    "#retira os K ultimos valores das matrizes U, s e Vt\n",
    "\n",
    "U_, s_, Vt_ = selecionar_K_primeiros_valores(U, s, Vt, 20)"
   ]
  },
  {
   "cell_type": "code",
   "execution_count": 731,
   "metadata": {},
   "outputs": [
    {
     "name": "stdout",
     "output_type": "stream",
     "text": [
      "valor_original0 : 2.0\n",
      "valor ruidoso: 0 : 2.8000000000000003\n",
      "valor apos retirada do ruido0 : 3.0937749468217812\n",
      "diferenca0: -0.29377494682178096\n",
      "valor_original1 : 4.0\n",
      "valor ruidoso: 1 : 2.9000000000000004\n",
      "valor apos retirada do ruido1 : 2.721677743047725\n",
      "diferenca1: 0.17832225695227555\n",
      "valor_original2 : 5.0\n",
      "valor ruidoso: 2 : 4.9\n",
      "valor apos retirada do ruido2 : 2.811733991882012\n",
      "diferenca2: 2.0882660081179885\n",
      "valor_original3 : 5.0\n",
      "valor ruidoso: 3 : 4.7\n",
      "valor apos retirada do ruido3 : 2.8063784318190494\n",
      "diferenca3: 1.8936215681809507\n",
      "valor_original4 : 5.0\n",
      "valor ruidoso: 4 : 3.5\n",
      "valor apos retirada do ruido4 : 2.763330968824844\n",
      "diferenca4: 0.7366690311751558\n"
     ]
    }
   ],
   "source": [
    "## reconstrói a matriz B com a retirada do ruido a partir da SVD\n",
    "B_ = U_ @ diagsvd(s_, U_.shape[1], Vt_.shape[0]) @ Vt_\n",
    "\n",
    "## compara o valor da matriz original, da matriz B e da matriz B_ (com ruido retirado)\n",
    "for i in range(len(ratings)):\n",
    "    print(f\"valor_original{i} : {ratings[i]}\")\n",
    "    print(f\"valor ruidoso: {i} : {b[users[i], movies[i]]}\")\n",
    "    print(f\"valor apos retirada do ruido{i} : {B_[users[i], movies[i]]}\")\n",
    "    print(f\"diferenca{i}: {b[users[i], movies[i]] - B_[users[i], movies[i]]}\")\n",
    "\n"
   ]
  },
  {
   "cell_type": "code",
   "execution_count": null,
   "metadata": {},
   "outputs": [],
   "source": []
  }
 ],
 "metadata": {
  "kernelspec": {
   "display_name": "Python 3",
   "language": "python",
   "name": "python3"
  },
  "language_info": {
   "codemirror_mode": {
    "name": "ipython",
    "version": 3
   },
   "file_extension": ".py",
   "mimetype": "text/x-python",
   "name": "python",
   "nbconvert_exporter": "python",
   "pygments_lexer": "ipython3",
   "version": "3.8.10"
  },
  "orig_nbformat": 4
 },
 "nbformat": 4,
 "nbformat_minor": 2
}
