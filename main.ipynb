{
 "cells": [
  {
   "cell_type": "code",
   "execution_count": 1,
   "metadata": {},
   "outputs": [
    {
     "data": {
      "text/html": [
       "<div>\n",
       "<style scoped>\n",
       "    .dataframe tbody tr th:only-of-type {\n",
       "        vertical-align: middle;\n",
       "    }\n",
       "\n",
       "    .dataframe tbody tr th {\n",
       "        vertical-align: top;\n",
       "    }\n",
       "\n",
       "    .dataframe thead th {\n",
       "        text-align: right;\n",
       "    }\n",
       "</style>\n",
       "<table border=\"1\" class=\"dataframe\">\n",
       "  <thead>\n",
       "    <tr style=\"text-align: right;\">\n",
       "      <th></th>\n",
       "      <th>userId</th>\n",
       "      <th>movieId</th>\n",
       "      <th>rating</th>\n",
       "      <th>timestamp</th>\n",
       "    </tr>\n",
       "  </thead>\n",
       "  <tbody>\n",
       "    <tr>\n",
       "      <th>0</th>\n",
       "      <td>1</td>\n",
       "      <td>31</td>\n",
       "      <td>2.5</td>\n",
       "      <td>1260759144</td>\n",
       "    </tr>\n",
       "    <tr>\n",
       "      <th>1</th>\n",
       "      <td>1</td>\n",
       "      <td>1029</td>\n",
       "      <td>3.0</td>\n",
       "      <td>1260759179</td>\n",
       "    </tr>\n",
       "  </tbody>\n",
       "</table>\n",
       "</div>"
      ],
      "text/plain": [
       "   userId  movieId  rating   timestamp\n",
       "0       1       31     2.5  1260759144\n",
       "1       1     1029     3.0  1260759179"
      ]
     },
     "execution_count": 1,
     "metadata": {},
     "output_type": "execute_result"
    }
   ],
   "source": [
    "import pandas as pd\n",
    "import numpy as np\n",
    "df = pd.read_csv('ratings_small.csv')\n",
    "df.head(2)"
   ]
  },
  {
   "cell_type": "code",
   "execution_count": 2,
   "metadata": {},
   "outputs": [
    {
     "data": {
      "text/html": [
       "<div>\n",
       "<style scoped>\n",
       "    .dataframe tbody tr th:only-of-type {\n",
       "        vertical-align: middle;\n",
       "    }\n",
       "\n",
       "    .dataframe tbody tr th {\n",
       "        vertical-align: top;\n",
       "    }\n",
       "\n",
       "    .dataframe thead th {\n",
       "        text-align: right;\n",
       "    }\n",
       "</style>\n",
       "<table border=\"1\" class=\"dataframe\">\n",
       "  <thead>\n",
       "    <tr style=\"text-align: right;\">\n",
       "      <th></th>\n",
       "      <th>userId</th>\n",
       "      <th>movieId</th>\n",
       "      <th>rating</th>\n",
       "    </tr>\n",
       "  </thead>\n",
       "  <tbody>\n",
       "    <tr>\n",
       "      <th>0</th>\n",
       "      <td>1</td>\n",
       "      <td>31</td>\n",
       "      <td>2.5</td>\n",
       "    </tr>\n",
       "    <tr>\n",
       "      <th>1</th>\n",
       "      <td>1</td>\n",
       "      <td>1029</td>\n",
       "      <td>3.0</td>\n",
       "    </tr>\n",
       "  </tbody>\n",
       "</table>\n",
       "</div>"
      ],
      "text/plain": [
       "   userId  movieId  rating\n",
       "0       1       31     2.5\n",
       "1       1     1029     3.0"
      ]
     },
     "execution_count": 2,
     "metadata": {},
     "output_type": "execute_result"
    }
   ],
   "source": [
    "df = df.drop('timestamp', axis=1)\n",
    "df.head(2)"
   ]
  },
  {
   "cell_type": "code",
   "execution_count": 3,
   "metadata": {},
   "outputs": [],
   "source": [
    "matrix = pd.pivot_table(df, values='rating', index='userId', columns='movieId')\n"
   ]
  },
  {
   "cell_type": "code",
   "execution_count": 4,
   "metadata": {},
   "outputs": [],
   "source": [
    "## cria a matriz B\n",
    "b = matrix.copy()\n"
   ]
  },
  {
   "cell_type": "code",
   "execution_count": 5,
   "metadata": {},
   "outputs": [
    {
     "name": "stdout",
     "output_type": "stream",
     "text": [
      "119 2239\n",
      "3.5\n",
      "1.8\n"
     ]
    }
   ],
   "source": [
    "## substitui um elemento aleatório que não seja NAN da matriz B por um valor aleatorio de 0 a 5.\n",
    "i = np.random.randint(0, b.shape[0])\n",
    "j = np.random.randint(0, b.shape[1])\n",
    "while np.isnan(b.iloc[i, j]):\n",
    "    i = np.random.randint(0, b.shape[0])\n",
    "    j = np.random.randint(0, b.shape[1])\n",
    "print(i, j)\n",
    "print(b.iloc[i, j])\n",
    "b.iloc[i, j] = np.random.randint(0, 51)/10\n",
    "print(b.iloc[i, j])"
   ]
  },
  {
   "cell_type": "code",
   "execution_count": 6,
   "metadata": {},
   "outputs": [],
   "source": [
    "## substitui os NANs da matriz B por 2.5\n",
    "b = b.fillna(2.5)"
   ]
  },
  {
   "cell_type": "code",
   "execution_count": 7,
   "metadata": {},
   "outputs": [],
   "source": [
    "b = b.to_numpy()"
   ]
  },
  {
   "cell_type": "code",
   "execution_count": 8,
   "metadata": {},
   "outputs": [],
   "source": [
    "def selecionar_K_primeiros_valores (u, s, vt, K):\n",
    "    \"\"\"Remove elementos de u, s e vt deixando somente K componentes restantes\n",
    "    \"\"\" \n",
    "    u_ = u[:,0:K]\n",
    "    s_ = s[:K]\n",
    "    vt_ = vt[:K,:]\n",
    "    return u_, s_, vt_"
   ]
  },
  {
   "cell_type": "code",
   "execution_count": 9,
   "metadata": {},
   "outputs": [],
   "source": [
    "from scipy.linalg import svd, diagsvd\n",
    "\n",
    "## calcula a SVD da matriz B\n",
    "U, s, Vt = svd(b)\n"
   ]
  },
  {
   "cell_type": "code",
   "execution_count": 10,
   "metadata": {},
   "outputs": [
    {
     "name": "stdout",
     "output_type": "stream",
     "text": [
      "(671, 671)\n",
      "(671,)\n",
      "(9066, 9066)\n"
     ]
    }
   ],
   "source": [
    "print(U.shape)\n",
    "print(s.shape)\n",
    "print(Vt.shape)"
   ]
  },
  {
   "cell_type": "code",
   "execution_count": 11,
   "metadata": {},
   "outputs": [
    {
     "name": "stdout",
     "output_type": "stream",
     "text": [
      "[6.20987374e+03 1.21603176e+02 9.04201574e+01 7.58777187e+01\n",
      " 6.17950189e+01 5.80987983e+01 5.69130312e+01 5.30366825e+01\n",
      " 4.99739655e+01 4.87065539e+01 4.76788013e+01 4.62581330e+01\n",
      " 4.24342814e+01 4.17195429e+01 4.12945905e+01 4.07979879e+01\n",
      " 3.96757746e+01 3.90199276e+01 3.85586871e+01 3.73783646e+01\n",
      " 3.69511269e+01 3.63384197e+01 3.50649708e+01 3.46601235e+01\n",
      " 3.46063766e+01 3.43558760e+01 3.38678055e+01 3.35819700e+01\n",
      " 3.33118982e+01 3.31370382e+01 3.28302803e+01 3.26896273e+01\n",
      " 3.23551205e+01 3.22086245e+01 3.18182085e+01 3.16620474e+01\n",
      " 3.13225240e+01 3.12823466e+01 3.07677781e+01 3.06793365e+01\n",
      " 3.04663304e+01 3.01213044e+01 2.99164953e+01 2.96849926e+01\n",
      " 2.96094465e+01 2.95370812e+01 2.93933394e+01 2.93314876e+01\n",
      " 2.90321615e+01 2.88338668e+01 2.86981632e+01 2.84577875e+01\n",
      " 2.82736079e+01 2.80569064e+01 2.79969610e+01 2.77941325e+01\n",
      " 2.76793396e+01 2.72979596e+01 2.71862492e+01 2.71557774e+01\n",
      " 2.70938730e+01 2.69764707e+01 2.68053397e+01 2.66676939e+01\n",
      " 2.64074601e+01 2.63088031e+01 2.62624231e+01 2.61939869e+01\n",
      " 2.60076331e+01 2.57637953e+01 2.55261253e+01 2.54675757e+01\n",
      " 2.53118022e+01 2.52516993e+01 2.50851737e+01 2.50115696e+01\n",
      " 2.47707832e+01 2.47252853e+01 2.45639193e+01 2.43480976e+01\n",
      " 2.43011900e+01 2.41663223e+01 2.40298221e+01 2.39855587e+01\n",
      " 2.39012487e+01 2.37485929e+01 2.36690105e+01 2.36084731e+01\n",
      " 2.35109848e+01 2.34052974e+01 2.32286751e+01 2.31373297e+01\n",
      " 2.30233708e+01 2.29113209e+01 2.28840357e+01 2.27685546e+01\n",
      " 2.27088946e+01 2.26064048e+01 2.24846414e+01 2.24509654e+01\n",
      " 2.23701274e+01 2.22907131e+01 2.21395936e+01 2.21015190e+01\n",
      " 2.20113956e+01 2.19649212e+01 2.18547964e+01 2.17252008e+01\n",
      " 2.16390647e+01 2.15143750e+01 2.14511333e+01 2.13754908e+01\n",
      " 2.12982839e+01 2.11822579e+01 2.10216137e+01 2.09524427e+01\n",
      " 2.08778383e+01 2.08472593e+01 2.08043912e+01 2.07407764e+01\n",
      " 2.06866528e+01 2.05701675e+01 2.04966322e+01 2.04329746e+01\n",
      " 2.03937338e+01 2.02849164e+01 2.02538653e+01 2.01818066e+01\n",
      " 2.01037318e+01 2.00585396e+01 2.00219780e+01 1.99211524e+01\n",
      " 1.98460502e+01 1.97534547e+01 1.96498221e+01 1.95253423e+01\n",
      " 1.94952668e+01 1.93979159e+01 1.93484067e+01 1.92751099e+01\n",
      " 1.92013429e+01 1.91651863e+01 1.91291809e+01 1.90545200e+01\n",
      " 1.90007855e+01 1.88993866e+01 1.88265305e+01 1.88065144e+01\n",
      " 1.87597600e+01 1.86720190e+01 1.85384292e+01 1.84916012e+01\n",
      " 1.84445830e+01 1.84280132e+01 1.83303453e+01 1.83125526e+01\n",
      " 1.82244807e+01 1.81347380e+01 1.80974595e+01 1.80811528e+01\n",
      " 1.79410057e+01 1.78930853e+01 1.78624943e+01 1.77978705e+01\n",
      " 1.77784513e+01 1.77021251e+01 1.76845468e+01 1.76489671e+01\n",
      " 1.75957676e+01 1.75532184e+01 1.75299225e+01 1.74374542e+01\n",
      " 1.73820220e+01 1.73247444e+01 1.72174436e+01 1.71603755e+01\n",
      " 1.71363631e+01 1.70563423e+01 1.69656508e+01 1.69181539e+01\n",
      " 1.68948470e+01 1.67858771e+01 1.67803103e+01 1.67256702e+01\n",
      " 1.66701430e+01 1.66052758e+01 1.65590290e+01 1.64862776e+01\n",
      " 1.64737731e+01 1.63937502e+01 1.63831041e+01 1.63371282e+01\n",
      " 1.62251754e+01 1.62025139e+01 1.61665691e+01 1.61215451e+01\n",
      " 1.60956189e+01 1.60562452e+01 1.59453579e+01 1.58737764e+01\n",
      " 1.58326862e+01 1.57524350e+01 1.57365146e+01 1.56725296e+01\n",
      " 1.56388141e+01 1.55942945e+01 1.55621122e+01 1.55004148e+01\n",
      " 1.54685818e+01 1.53993723e+01 1.53641278e+01 1.52849459e+01\n",
      " 1.52305442e+01 1.52053546e+01 1.51659702e+01 1.51161683e+01\n",
      " 1.50334605e+01 1.50191296e+01 1.49763111e+01 1.49306053e+01\n",
      " 1.48902308e+01 1.48546077e+01 1.48325243e+01 1.47041286e+01\n",
      " 1.47001737e+01 1.46639774e+01 1.46350658e+01 1.45766363e+01\n",
      " 1.45556100e+01 1.45006020e+01 1.44754774e+01 1.44151184e+01\n",
      " 1.43601282e+01 1.43393862e+01 1.42115999e+01 1.41755085e+01\n",
      " 1.41462670e+01 1.41321981e+01 1.40564493e+01 1.40340092e+01\n",
      " 1.39730227e+01 1.39549384e+01 1.39257471e+01 1.38850703e+01\n",
      " 1.38494742e+01 1.37922522e+01 1.37489603e+01 1.37118756e+01\n",
      " 1.36906751e+01 1.36373629e+01 1.36142937e+01 1.35863898e+01\n",
      " 1.35618047e+01 1.35172701e+01 1.34537348e+01 1.33957556e+01\n",
      " 1.33291882e+01 1.33101763e+01 1.32854704e+01 1.32574509e+01\n",
      " 1.32303474e+01 1.31812609e+01 1.30943886e+01 1.30796848e+01\n",
      " 1.30152822e+01 1.29544480e+01 1.29216793e+01 1.28628098e+01\n",
      " 1.28211177e+01 1.27889350e+01 1.27774810e+01 1.27467468e+01\n",
      " 1.27114208e+01 1.27064373e+01 1.26491453e+01 1.25989796e+01\n",
      " 1.25663354e+01 1.25595242e+01 1.25018794e+01 1.24470730e+01\n",
      " 1.23798214e+01 1.23488602e+01 1.23357612e+01 1.23229448e+01\n",
      " 1.22708884e+01 1.22247009e+01 1.21843885e+01 1.21788817e+01\n",
      " 1.21495378e+01 1.20718573e+01 1.20462348e+01 1.20078602e+01\n",
      " 1.19714043e+01 1.19224429e+01 1.18638748e+01 1.18363735e+01\n",
      " 1.17596844e+01 1.17537600e+01 1.17158618e+01 1.16812285e+01\n",
      " 1.16616961e+01 1.16375049e+01 1.16273690e+01 1.15819257e+01\n",
      " 1.15685386e+01 1.15176757e+01 1.14950423e+01 1.14352001e+01\n",
      " 1.14094064e+01 1.13792846e+01 1.13221159e+01 1.12991008e+01\n",
      " 1.12865459e+01 1.12088272e+01 1.11858121e+01 1.11737205e+01\n",
      " 1.11465919e+01 1.11099811e+01 1.10653256e+01 1.10574947e+01\n",
      " 1.09873591e+01 1.09503420e+01 1.09358764e+01 1.09073557e+01\n",
      " 1.08918090e+01 1.08515657e+01 1.08217324e+01 1.07871622e+01\n",
      " 1.07515531e+01 1.07079225e+01 1.06875408e+01 1.06617456e+01\n",
      " 1.06260463e+01 1.05947240e+01 1.05640382e+01 1.05213202e+01\n",
      " 1.04946535e+01 1.04448819e+01 1.03917434e+01 1.03774583e+01\n",
      " 1.03461204e+01 1.03270934e+01 1.03119359e+01 1.02893612e+01\n",
      " 1.02469730e+01 1.02451257e+01 1.01553001e+01 1.01252834e+01\n",
      " 1.01216293e+01 1.00778948e+01 1.00573016e+01 1.00339625e+01\n",
      " 1.00203604e+01 9.97355122e+00 9.91294650e+00 9.88484209e+00\n",
      " 9.87055514e+00 9.84531752e+00 9.81377950e+00 9.79917192e+00\n",
      " 9.78813046e+00 9.75934191e+00 9.71999674e+00 9.69149546e+00\n",
      " 9.66977529e+00 9.64427724e+00 9.60875668e+00 9.55568330e+00\n",
      " 9.53145364e+00 9.50241556e+00 9.48188380e+00 9.46256780e+00\n",
      " 9.41095669e+00 9.38310697e+00 9.37717027e+00 9.35221051e+00\n",
      " 9.31855593e+00 9.29642259e+00 9.23685818e+00 9.22157348e+00\n",
      " 9.16653853e+00 9.14215496e+00 9.13049663e+00 9.10162443e+00\n",
      " 9.09768674e+00 9.06326707e+00 9.03944970e+00 9.02012061e+00\n",
      " 8.98003492e+00 8.96213797e+00 8.94278981e+00 8.93404831e+00\n",
      " 8.88748539e+00 8.85320080e+00 8.83090906e+00 8.78411339e+00\n",
      " 8.77164680e+00 8.76161473e+00 8.73382191e+00 8.67310917e+00\n",
      " 8.65047183e+00 8.64785034e+00 8.58893245e+00 8.57678657e+00\n",
      " 8.56883885e+00 8.52941699e+00 8.49977606e+00 8.47604272e+00\n",
      " 8.46100661e+00 8.43821490e+00 8.42486104e+00 8.38836908e+00\n",
      " 8.36895856e+00 8.33467576e+00 8.32654414e+00 8.30758155e+00\n",
      " 8.27809374e+00 8.23549812e+00 8.19977931e+00 8.18408953e+00\n",
      " 8.16078892e+00 8.12418498e+00 8.11727959e+00 8.08654574e+00\n",
      " 8.05603137e+00 8.03183955e+00 8.00733741e+00 8.00644300e+00\n",
      " 7.95843289e+00 7.93969250e+00 7.91092949e+00 7.87502450e+00\n",
      " 7.86164002e+00 7.82806257e+00 7.82619969e+00 7.76798042e+00\n",
      " 7.75862095e+00 7.73715553e+00 7.70408293e+00 7.68349587e+00\n",
      " 7.67299852e+00 7.64715016e+00 7.61640536e+00 7.61246612e+00\n",
      " 7.59497842e+00 7.57028671e+00 7.53842584e+00 7.51195792e+00\n",
      " 7.50038431e+00 7.46873832e+00 7.43191114e+00 7.40706590e+00\n",
      " 7.37171678e+00 7.36384131e+00 7.33192957e+00 7.31947874e+00\n",
      " 7.29681298e+00 7.27533717e+00 7.25416079e+00 7.23167138e+00\n",
      " 7.21271386e+00 7.20010767e+00 7.17795690e+00 7.14178901e+00\n",
      " 7.11689897e+00 7.11076553e+00 7.06686591e+00 7.05470507e+00\n",
      " 7.01421829e+00 6.99816496e+00 6.98598817e+00 6.94631444e+00\n",
      " 6.91643213e+00 6.90165374e+00 6.87754462e+00 6.84434382e+00\n",
      " 6.83745699e+00 6.80970877e+00 6.79987035e+00 6.77909826e+00\n",
      " 6.77400286e+00 6.72670963e+00 6.70906553e+00 6.66596319e+00\n",
      " 6.64612467e+00 6.63425455e+00 6.61676625e+00 6.58705024e+00\n",
      " 6.54415316e+00 6.52859764e+00 6.50548324e+00 6.47030661e+00\n",
      " 6.45763077e+00 6.43723846e+00 6.40736298e+00 6.40060060e+00\n",
      " 6.37987435e+00 6.33618701e+00 6.32984434e+00 6.31604861e+00\n",
      " 6.30195678e+00 6.26981094e+00 6.25295093e+00 6.21929031e+00\n",
      " 6.19826030e+00 6.17604994e+00 6.16002384e+00 6.14350758e+00\n",
      " 6.13722325e+00 6.11989367e+00 6.08133061e+00 6.03106756e+00\n",
      " 6.01918498e+00 6.00638984e+00 5.97057506e+00 5.94118659e+00\n",
      " 5.91571557e+00 5.89197215e+00 5.86915400e+00 5.86191451e+00\n",
      " 5.82659526e+00 5.80719427e+00 5.77979259e+00 5.77171672e+00\n",
      " 5.73221386e+00 5.72923127e+00 5.69745238e+00 5.68028874e+00\n",
      " 5.67295370e+00 5.66546145e+00 5.61471488e+00 5.59622914e+00\n",
      " 5.56549579e+00 5.56269294e+00 5.54232106e+00 5.51241575e+00\n",
      " 5.49814003e+00 5.48583016e+00 5.45027235e+00 5.44299735e+00\n",
      " 5.40667129e+00 5.37945063e+00 5.36312548e+00 5.34450437e+00\n",
      " 5.30477074e+00 5.29739266e+00 5.27811162e+00 5.26961462e+00\n",
      " 5.24607295e+00 5.20434813e+00 5.17142519e+00 5.15669645e+00\n",
      " 5.15131033e+00 5.13826647e+00 5.10450402e+00 5.07493628e+00\n",
      " 5.06279632e+00 5.05160237e+00 5.02008810e+00 5.01334384e+00\n",
      " 4.98353846e+00 4.97401174e+00 4.91807910e+00 4.90226928e+00\n",
      " 4.86743685e+00 4.85643203e+00 4.82082330e+00 4.81334620e+00\n",
      " 4.78314200e+00 4.77116700e+00 4.75161339e+00 4.72897030e+00\n",
      " 4.70481732e+00 4.68824789e+00 4.67133921e+00 4.62500755e+00\n",
      " 4.60225744e+00 4.57465162e+00 4.57298740e+00 4.53159037e+00\n",
      " 4.50742753e+00 4.48257574e+00 4.46918550e+00 4.45237959e+00\n",
      " 4.43385481e+00 4.40056437e+00 4.39685271e+00 4.37153631e+00\n",
      " 4.34279930e+00 4.29979957e+00 4.28462155e+00 4.26955420e+00\n",
      " 4.22728818e+00 4.21044022e+00 4.20494805e+00 4.16427051e+00\n",
      " 4.14292052e+00 4.12616693e+00 4.10169772e+00 4.07584991e+00\n",
      " 4.05996748e+00 4.02329400e+00 4.00312754e+00 3.95981773e+00\n",
      " 3.93428836e+00 3.89891119e+00 3.86523343e+00 3.85388805e+00\n",
      " 3.81015544e+00 3.80196864e+00 3.79718334e+00 3.76668400e+00\n",
      " 3.72100646e+00 3.67199961e+00 3.66256044e+00 3.65745426e+00\n",
      " 3.62337620e+00 3.60537671e+00 3.55289566e+00 3.53306684e+00\n",
      " 3.50676215e+00 3.49682907e+00 3.46758450e+00 3.44556278e+00\n",
      " 3.41270731e+00 3.38020457e+00 3.37015462e+00 3.35159484e+00\n",
      " 3.31445019e+00 3.27656510e+00 3.20504311e+00 3.18159655e+00\n",
      " 3.16440467e+00 3.13822021e+00 3.10383255e+00 3.07732120e+00\n",
      " 3.03064628e+00 3.00319816e+00 2.97029276e+00 2.95987652e+00\n",
      " 2.92933198e+00 2.89241362e+00 2.86774235e+00 2.82422336e+00\n",
      " 2.82164785e+00 2.75568690e+00 2.71560991e+00 2.62485615e+00\n",
      " 2.58201915e+00 2.56579566e+00 2.53709106e+00 2.49869317e+00\n",
      " 2.42279893e+00 2.37751770e+00 2.26220923e+00 2.24668262e+00\n",
      " 2.19778809e+00 2.17492681e+00 2.14451269e+00 2.09790704e+00\n",
      " 2.07220817e+00 1.98241372e+00 1.95202422e+00 1.89022393e+00\n",
      " 1.81103097e+00 1.76257892e+00 1.63736282e+00 1.49483914e+00\n",
      " 1.46553421e+00 1.37985325e+00 1.20723455e+00]\n"
     ]
    }
   ],
   "source": [
    "print(s)"
   ]
  },
  {
   "cell_type": "code",
   "execution_count": 12,
   "metadata": {},
   "outputs": [],
   "source": [
    "import matplotlib.pyplot as plt\n"
   ]
  },
  {
   "cell_type": "code",
   "execution_count": 13,
   "metadata": {},
   "outputs": [
    {
     "data": {
      "image/png": "[encoded data removed]",
      "text/plain": [
       "<Figure size 640x480 with 1 Axes>"
      ]
     },
     "metadata": {},
     "output_type": "display_data"
    }
   ],
   "source": [
    "plt.plot(s)\n",
    "plt.show()"
   ]
  },
  {
   "cell_type": "code",
   "execution_count": 14,
   "metadata": {},
   "outputs": [
    {
     "data": {
      "image/png": "[encoded data removed]",
      "text/plain": [
       "<Figure size 640x480 with 1 Axes>"
      ]
     },
     "metadata": {},
     "output_type": "display_data"
    }
   ],
   "source": [
    "plt.plot(s[:100])\n",
    "plt.show()"
   ]
  },
  {
   "cell_type": "code",
   "execution_count": 15,
   "metadata": {},
   "outputs": [
    {
     "data": {
      "image/png": "[encoded data removed]",
      "text/plain": [
       "<Figure size 640x480 with 1 Axes>"
      ]
     },
     "metadata": {},
     "output_type": "display_data"
    }
   ],
   "source": [
    "## plot the s values\n",
    "plt.plot(s[1:100])\n",
    "plt.show()"
   ]
  },
  {
   "cell_type": "code",
   "execution_count": 16,
   "metadata": {},
   "outputs": [],
   "source": [
    "#retira os K ultimos valores das matrizes U, s e Vt\n",
    "\n",
    "U_, s_, Vt_ = selecionar_K_primeiros_valores(U, s, Vt, 60)"
   ]
  },
  {
   "cell_type": "code",
   "execution_count": 17,
   "metadata": {},
   "outputs": [
    {
     "name": "stdout",
     "output_type": "stream",
     "text": [
      "3.5\n",
      "1.8\n",
      "2.7675635541787327\n"
     ]
    }
   ],
   "source": [
    "## reconstrói a matriz B com a retirada do ruido a partir da SVD\n",
    "B_ = U_ @ diagsvd(s_, U_.shape[1], Vt_.shape[0]) @ Vt_\n",
    "\n",
    "## compara o valor da matriz original, da matriz B e da matriz B_ (com ruido retirado)\n",
    "print(matrix.iloc[i, j])\n",
    "print(b[i, j])\n",
    "print(B_[i, j])\n"
   ]
  },
  {
   "cell_type": "code",
   "execution_count": null,
   "metadata": {},
   "outputs": [],
   "source": []
  }
 ],
 "metadata": {
  "kernelspec": {
   "display_name": "Python 3",
   "language": "python",
   "name": "python3"
  },
  "language_info": {
   "codemirror_mode": {
    "name": "ipython",
    "version": 3
   },
   "file_extension": ".py",
   "mimetype": "text/x-python",
   "name": "python",
   "nbconvert_exporter": "python",
   "pygments_lexer": "ipython3",
   "version": "3.8.10"
  },
  "orig_nbformat": 4
 },
 "nbformat": 4,
 "nbformat_minor": 2
}
